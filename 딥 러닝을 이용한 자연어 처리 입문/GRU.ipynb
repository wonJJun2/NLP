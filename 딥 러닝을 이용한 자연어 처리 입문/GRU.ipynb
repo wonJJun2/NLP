{
  "nbformat": 4,
  "nbformat_minor": 0,
  "metadata": {
    "colab": {
      "name": "GRU.ipynb",
      "provenance": [],
      "collapsed_sections": []
    },
    "kernelspec": {
      "name": "python3",
      "display_name": "Python 3"
    },
    "language_info": {
      "name": "python"
    }
  },
  "cells": [
    {
      "cell_type": "code",
      "execution_count": null,
      "metadata": {
        "id": "xmY27brbFL6n"
      },
      "outputs": [],
      "source": [
        "model.add(GRU(hidden_size, input_shape=(timesteps, input_dim)))"
      ]
    }
  ]
}