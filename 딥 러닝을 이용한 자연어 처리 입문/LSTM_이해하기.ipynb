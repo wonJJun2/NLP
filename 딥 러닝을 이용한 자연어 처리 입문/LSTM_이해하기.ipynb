{
  "nbformat": 4,
  "nbformat_minor": 0,
  "metadata": {
    "colab": {
      "name": "LSTM 이해하기.ipynb",
      "provenance": [],
      "collapsed_sections": []
    },
    "kernelspec": {
      "name": "python3",
      "display_name": "Python 3"
    },
    "language_info": {
      "name": "python"
    }
  },
  "cells": [
    {
      "cell_type": "code",
      "source": [
        "import numpy as np\n",
        "import tensorflow as tf\n",
        "from tensorflow.keras.layers import SimpleRNN, LSTM, Bidirectional"
      ],
      "metadata": {
        "id": "di-2AjXc8IKv"
      },
      "execution_count": 2,
      "outputs": []
    },
    {
      "cell_type": "code",
      "source": [
        "# 학습 데이터 생성\n",
        "train_X = [[[0.1, 4.2, 1.5, 1.1, 2.8], [1.0, 3.1, 2.5, 0.7, 1.1], [0.3, 2.1, 1.5, 2.1, 0.1], [2.2, 1.4, 0.5, 0.9, 1.1]]]\n",
        "train_X = np.array(train_X, dtype=np.float32)\n",
        "print(train_X.shape)"
      ],
      "metadata": {
        "colab": {
          "base_uri": "https://localhost:8080/"
        },
        "id": "D5n0Ugb08LSy",
        "outputId": "4d36e9de-9e47-463b-b013-0e0847ed8f69"
      },
      "execution_count": 3,
      "outputs": [
        {
          "output_type": "stream",
          "name": "stdout",
          "text": [
            "(1, 4, 5)\n"
          ]
        }
      ]
    },
    {
      "cell_type": "code",
      "execution_count": 4,
      "metadata": {
        "colab": {
          "base_uri": "https://localhost:8080/"
        },
        "id": "wvtGxR-E8ErY",
        "outputId": "374bb7d3-5518-4c54-e4b1-75490abdebbb"
      },
      "outputs": [
        {
          "output_type": "stream",
          "name": "stdout",
          "text": [
            "hidden state : [[ 0.00880115 -0.06577349  0.0925478 ]], shape: (1, 3)\n",
            "last hidden state : [[ 0.00880115 -0.06577349  0.0925478 ]], shape: (1, 3)\n",
            "last cell state : [[ 0.0249057  -0.18694697  0.1481326 ]], shape: (1, 3)\n"
          ]
        }
      ],
      "source": [
        "lstm = LSTM(3, return_sequences=False, return_state=True)\n",
        "hidden_state, last_state, last_cell_state = lstm(train_X)\n",
        "\n",
        "print('hidden state : {}, shape: {}'.format(hidden_state, hidden_state.shape))\n",
        "print('last hidden state : {}, shape: {}'.format(last_state, last_state.shape))\n",
        "print('last cell state : {}, shape: {}'.format(last_cell_state, last_cell_state.shape))"
      ]
    },
    {
      "cell_type": "code",
      "source": [
        "lstm = LSTM(3, return_sequences=True, return_state=True)\n",
        "hidden_states, last_hidden_state, last_cell_state = lstm(train_X)\n",
        "\n",
        "print('hidden states : {}, shape: {}'.format(hidden_states, hidden_states.shape))\n",
        "print('last hidden state : {}, shape: {}'.format(last_hidden_state, last_hidden_state.shape))\n",
        "print('last cell state : {}, shape: {}'.format(last_cell_state, last_cell_state.shape))"
      ],
      "metadata": {
        "colab": {
          "base_uri": "https://localhost:8080/"
        },
        "id": "RZ-bViR28OEq",
        "outputId": "3ae8e75f-9755-4c3b-d904-5df715905bee"
      },
      "execution_count": 5,
      "outputs": [
        {
          "output_type": "stream",
          "name": "stdout",
          "text": [
            "hidden states : [[[ 0.05887516  0.16793512  0.0217158 ]\n",
            "  [ 0.12912774 -0.02116411  0.03422045]\n",
            "  [ 0.28066927 -0.07347853  0.19141802]\n",
            "  [ 0.29193863 -0.09670273  0.1251882 ]]], shape: (1, 4, 3)\n",
            "last hidden state : [[ 0.29193863 -0.09670273  0.1251882 ]], shape: (1, 3)\n",
            "last cell state : [[ 0.84614164 -0.6147384   1.1365509 ]], shape: (1, 3)\n"
          ]
        }
      ]
    }
  ]
}