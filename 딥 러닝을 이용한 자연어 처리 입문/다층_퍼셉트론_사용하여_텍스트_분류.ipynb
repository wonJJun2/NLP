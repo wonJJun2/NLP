{
  "nbformat": 4,
  "nbformat_minor": 0,
  "metadata": {
    "colab": {
      "name": "다층 퍼셉트론 사용하여 텍스트 분류.ipynb",
      "provenance": [],
      "collapsed_sections": []
    },
    "kernelspec": {
      "name": "python3",
      "display_name": "Python 3"
    },
    "language_info": {
      "name": "python"
    }
  },
  "cells": [
    {
      "cell_type": "code",
      "source": [
        "from tensorflow.keras.models import Sequential\n",
        "from tensorflow.keras.layers import Dense, Dropout"
      ],
      "metadata": {
        "id": "Gjj9gnuEG3MC"
      },
      "execution_count": null,
      "outputs": []
    },
    {
      "cell_type": "code",
      "source": [
        "def fit_and_evaluate(X_train, y_train, X_test, y_test):\n",
        "    model = Sequential()\n",
        "    model.add(Dense(256, input_shape=(vocab_size,), activation='relu'))\n",
        "    model.add(Dropout(0.5))\n",
        "    model.add(Dense(128, activation='relu'))\n",
        "    model.add(Dropout(0.5))\n",
        "    model.add(Dense(num_classes, activation='softmax'))\n",
        "\n",
        "    model.compile(loss='categorical_crossentropy', optimizer='adam', metrics=['accuracy'])\n",
        "    model.fit(X_train, y_train, batch_size=128, epochs=5, verbose=1, validation_split=0.1)\n",
        "    score = model.evaluate(X_test, y_test, batch_size=128, verbose=0)\n",
        "    return score[1]"
      ],
      "metadata": {
        "id": "H_Yom4P5G3De"
      },
      "execution_count": null,
      "outputs": []
    },
    {
      "cell_type": "code",
      "source": [
        "modes = ['binary', 'count', 'tfidf', 'freq'] # 4개의 모드를 리스트에 저장.\n",
        "\n",
        "for mode in modes: # 4개의 모드에 대해서 각각 아래의 작업을 반복한다.\n",
        "    X_train, X_test, _ = prepare_data(train_email, test_email, mode) # 모드에 따라서 데이터를 전처리\n",
        "    score = fit_and_evaluate(X_train, y_train, X_test, y_test) # 모델을 훈련하고 평가.\n",
        "    print(mode+' 모드의 테스트 정확도:', score)"
      ],
      "metadata": {
        "colab": {
          "base_uri": "https://localhost:8080/"
        },
        "id": "TajT40cIG27E",
        "outputId": "f88004fb-a428-4196-d08c-643654ba5b28"
      },
      "execution_count": null,
      "outputs": [
        {
          "output_type": "stream",
          "name": "stdout",
          "text": [
            "Epoch 1/5\n",
            "80/80 [==============================] - 4s 43ms/step - loss: 2.3409 - accuracy: 0.3281 - val_loss: 0.9936 - val_accuracy: 0.8286\n",
            "Epoch 2/5\n",
            "80/80 [==============================] - 3s 40ms/step - loss: 0.8920 - accuracy: 0.7594 - val_loss: 0.4595 - val_accuracy: 0.8878\n",
            "Epoch 3/5\n",
            "80/80 [==============================] - 3s 40ms/step - loss: 0.4480 - accuracy: 0.8830 - val_loss: 0.3589 - val_accuracy: 0.9046\n",
            "Epoch 4/5\n",
            "80/80 [==============================] - 3s 40ms/step - loss: 0.2690 - accuracy: 0.9320 - val_loss: 0.3137 - val_accuracy: 0.9117\n",
            "Epoch 5/5\n",
            "80/80 [==============================] - 3s 40ms/step - loss: 0.1737 - accuracy: 0.9566 - val_loss: 0.2983 - val_accuracy: 0.9143\n",
            "binary 모드의 테스트 정확도: 0.8279341459274292\n",
            "Epoch 1/5\n",
            "80/80 [==============================] - 4s 42ms/step - loss: 2.7476 - accuracy: 0.2332 - val_loss: 1.6666 - val_accuracy: 0.7403\n",
            "Epoch 2/5\n",
            "80/80 [==============================] - 3s 40ms/step - loss: 1.4601 - accuracy: 0.6286 - val_loss: 0.6905 - val_accuracy: 0.8587\n",
            "Epoch 3/5\n",
            "80/80 [==============================] - 3s 40ms/step - loss: 0.8358 - accuracy: 0.7989 - val_loss: 0.5101 - val_accuracy: 0.8737\n",
            "Epoch 4/5\n",
            "80/80 [==============================] - 3s 39ms/step - loss: 0.5603 - accuracy: 0.8687 - val_loss: 0.4383 - val_accuracy: 0.8860\n",
            "Epoch 5/5\n",
            "80/80 [==============================] - 3s 40ms/step - loss: 0.4411 - accuracy: 0.9073 - val_loss: 0.4022 - val_accuracy: 0.8958\n",
            "count 모드의 테스트 정확도: 0.8166489601135254\n",
            "Epoch 1/5\n",
            "80/80 [==============================] - 4s 42ms/step - loss: 2.2889 - accuracy: 0.3426 - val_loss: 0.8390 - val_accuracy: 0.8286\n",
            "Epoch 2/5\n",
            "80/80 [==============================] - 3s 40ms/step - loss: 0.8725 - accuracy: 0.7614 - val_loss: 0.4366 - val_accuracy: 0.8931\n",
            "Epoch 3/5\n",
            "80/80 [==============================] - 3s 40ms/step - loss: 0.4397 - accuracy: 0.8817 - val_loss: 0.3465 - val_accuracy: 0.9134\n",
            "Epoch 4/5\n",
            "80/80 [==============================] - 3s 40ms/step - loss: 0.3306 - accuracy: 0.9209 - val_loss: 0.3461 - val_accuracy: 0.9108\n",
            "Epoch 5/5\n",
            "80/80 [==============================] - 3s 40ms/step - loss: 0.2201 - accuracy: 0.9494 - val_loss: 0.3371 - val_accuracy: 0.9152\n",
            "tfidf 모드의 테스트 정확도: 0.8344396948814392\n",
            "Epoch 1/5\n",
            "80/80 [==============================] - 4s 41ms/step - loss: 2.9815 - accuracy: 0.0930 - val_loss: 2.9429 - val_accuracy: 0.2332\n",
            "Epoch 2/5\n",
            "80/80 [==============================] - 3s 39ms/step - loss: 2.7822 - accuracy: 0.2235 - val_loss: 2.4834 - val_accuracy: 0.4046\n",
            "Epoch 3/5\n",
            "80/80 [==============================] - 3s 39ms/step - loss: 2.2236 - accuracy: 0.3578 - val_loss: 1.8641 - val_accuracy: 0.5627\n",
            "Epoch 4/5\n",
            "80/80 [==============================] - 3s 39ms/step - loss: 1.6820 - accuracy: 0.4975 - val_loss: 1.3665 - val_accuracy: 0.7120\n",
            "Epoch 5/5\n",
            "80/80 [==============================] - 3s 39ms/step - loss: 1.2817 - accuracy: 0.6204 - val_loss: 1.0582 - val_accuracy: 0.7624\n",
            "freq 모드의 테스트 정확도: 0.7015401124954224\n"
          ]
        }
      ]
    }
  ]
}