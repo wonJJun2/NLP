{
  "nbformat": 4,
  "nbformat_minor": 0,
  "metadata": {
    "colab": {
      "name": "PyKoSpacing.ipynb",
      "provenance": [],
      "collapsed_sections": []
    },
    "kernelspec": {
      "name": "python3",
      "display_name": "Python 3"
    },
    "language_info": {
      "name": "python"
    }
  },
  "cells": [
    {
      "cell_type": "code",
      "source": [
        "!pip install git+https://github.com/haven-jeon/PyKoSpacing.git\n",
        "\n",
        "sent = '김군은 극중 다중 인격 사나이 이광수 역을 맡았다. 김군은 한국 태권도 전승자를 가리는 결전의 날을 앞두고 10년간 함께 훈련한 사부님인 유사부(김모씨 분)를 찾으러 내려온 인물이다.'\n",
        "\n",
        "new_sent = sent.replace(\" \", '') # 띄어쓰기가 없는 문장 임의로 만들기\n",
        "\n",
        "from pykospacing import Spacing\n",
        "spacing = Spacing()\n",
        "kospacing_sent = spacing(new_sent) \n",
        "\n",
        "print(sent)\n",
        "print(kospacing_sent)"
      ],
      "metadata": {
        "id": "gzRfeAunzq0D"
      },
      "execution_count": null,
      "outputs": []
    }
  ]
}